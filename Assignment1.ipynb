{
  "nbformat": 4,
  "nbformat_minor": 0,
  "metadata": {
    "colab": {
      "name": "Assignment1.ipynb",
      "provenance": [],
      "authorship_tag": "ABX9TyODLzXcb0JjTV/gZ/XTVqAO",
      "include_colab_link": true
    },
    "kernelspec": {
      "name": "python3",
      "display_name": "Python 3"
    }
  },
  "cells": [
    {
      "cell_type": "markdown",
      "metadata": {
        "id": "view-in-github",
        "colab_type": "text"
      },
      "source": [
        "<a href=\"https://colab.research.google.com/github/NanduKrishna-C/Class-Assignment-1---Getting-Started-with-Python-Programming/blob/master/Assignment1.ipynb\" target=\"_parent\"><img src=\"https://colab.research.google.com/assets/colab-badge.svg\" alt=\"Open In Colab\"/></a>"
      ]
    },
    {
      "cell_type": "code",
      "metadata": {
        "id": "LEeFqp83jcud",
        "colab_type": "code",
        "colab": {}
      },
      "source": [
        ""
      ],
      "execution_count": null,
      "outputs": []
    },
    {
      "cell_type": "markdown",
      "metadata": {
        "id": "hTGdEhzEjl7S",
        "colab_type": "text"
      },
      "source": [
        "Question2"
      ]
    },
    {
      "cell_type": "code",
      "metadata": {
        "id": "hwZg16VNj1HB",
        "colab_type": "code",
        "colab": {
          "base_uri": "https://localhost:8080/",
          "height": 69
        },
        "outputId": "a48a0086-c61b-4129-85a0-bb2477756956"
      },
      "source": [
        "Name =\"NANDU KRISHNA C\"\n",
        "Address =\"ARIYALLUR, MALAPPURAM\"\n",
        "Telephone_no =\"1234567890\"\n",
        "print(\" Name:\"+Name+\"\\n\",\"Address:\"+Address+\"\\n\",\"Telephone no:\"+Telephone_no)"
      ],
      "execution_count": 1,
      "outputs": [
        {
          "output_type": "stream",
          "text": [
            " Name:NANDU KRISHNA C\n",
            " Address:ARIYALLUR, MALAPPURAM\n",
            " Telephone no:1234567890\n"
          ],
          "name": "stdout"
        }
      ]
    },
    {
      "cell_type": "markdown",
      "metadata": {
        "id": "iLFZRKYjk5o5",
        "colab_type": "text"
      },
      "source": [
        "Question3"
      ]
    },
    {
      "cell_type": "code",
      "metadata": {
        "id": "4vBtLeFHlVph",
        "colab_type": "code",
        "colab": {
          "base_uri": "https://localhost:8080/",
          "height": 34
        },
        "outputId": "ed7b0fa4-0423-40da-9d63-58ea349b1413"
      },
      "source": [
        " print(\"Your name is\",Name)"
      ],
      "execution_count": 2,
      "outputs": [
        {
          "output_type": "stream",
          "text": [
            "Your name is NANDU KRISHNA C\n"
          ],
          "name": "stdout"
        }
      ]
    },
    {
      "cell_type": "markdown",
      "metadata": {
        "id": "ozyp8mJ2lnvB",
        "colab_type": "text"
      },
      "source": [
        "Question4"
      ]
    },
    {
      "cell_type": "code",
      "metadata": {
        "id": "LlpZiNtqlpoJ",
        "colab_type": "code",
        "colab": {
          "base_uri": "https://localhost:8080/",
          "height": 69
        },
        "outputId": "53756257-1778-4b62-b7f3-2a6526fb2181"
      },
      "source": [
        " \n",
        "#area of a rectangle \n",
        "Width = float(input(\"Enter the width: \")) \n",
        "Height = float(input(\"Enter the height: \")) \n",
        "area =Width * Height\n",
        "print(\"The area is\",area, \"Square units\")"
      ],
      "execution_count": 4,
      "outputs": [
        {
          "output_type": "stream",
          "text": [
            "Enter the width: 1\n",
            "Enter the height: 1\n",
            "The area is 1.0 Square units\n"
          ],
          "name": "stdout"
        }
      ]
    },
    {
      "cell_type": "markdown",
      "metadata": {
        "id": "jG6nJGLyl4Sv",
        "colab_type": "text"
      },
      "source": [
        "Question5"
      ]
    },
    {
      "cell_type": "code",
      "metadata": {
        "id": "k2i4omekl74y",
        "colab_type": "code",
        "colab": {
          "base_uri": "https://localhost:8080/",
          "height": 69
        },
        "outputId": "385dfd22-f1a8-4846-9af6-c8c904256842"
      },
      "source": [
        "#area of a triangle \n",
        "Base= float(input(\"Enter the base: \"))\n",
        "Height= float(input(\"Enter the height: \")) \n",
        "area = .5*Base*Height\n",
        "print(\"The area is\",area, \"square units\")"
      ],
      "execution_count": 5,
      "outputs": [
        {
          "output_type": "stream",
          "text": [
            "Enter the base: 23\n",
            "Enter the height: 12\n",
            "The area is 138.0 square units\n"
          ],
          "name": "stdout"
        }
      ]
    },
    {
      "cell_type": "markdown",
      "metadata": {
        "id": "7FXySXkTmzBl",
        "colab_type": "text"
      },
      "source": [
        "Question6"
      ]
    },
    {
      "cell_type": "code",
      "metadata": {
        "id": "x5CqM3uRm0XB",
        "colab_type": "code",
        "colab": {
          "base_uri": "https://localhost:8080/",
          "height": 51
        },
        "outputId": "5d206eea-038c-47d5-c497-fc01cc253f63"
      },
      "source": [
        "#area of a circle\n",
        "radius = float(input(\"Enter the radius: \")) \n",
        "area = 3.14*radius**2\n",
        "print(\"The area is\", area, \"square units\")"
      ],
      "execution_count": 6,
      "outputs": [
        {
          "output_type": "stream",
          "text": [
            "Enter the radius: 10\n",
            "The area is 314.0 square units\n"
          ],
          "name": "stdout"
        }
      ]
    },
    {
      "cell_type": "markdown",
      "metadata": {
        "id": "s0qs3H9um_fU",
        "colab_type": "text"
      },
      "source": [
        "Question7"
      ]
    },
    {
      "cell_type": "code",
      "metadata": {
        "id": "XSYtc7o7nAh0",
        "colab_type": "code",
        "colab": {
          "base_uri": "https://localhost:8080/",
          "height": 89
        },
        "outputId": "0ce0a242-9285-4ee1-eda6-ba1b65e39609"
      },
      "source": [
        "Name = input(\"Enter your name: \") \n",
        "Age =input(\"Enter your age: \") \n",
        "print(\"My name is \"+Name+\" and my age is \"+Age)"
      ],
      "execution_count": 7,
      "outputs": [
        {
          "output_type": "stream",
          "text": [
            "Enter your name: NANDU KRISHNA C\n",
            "Enter your age: 19\n",
            "My name is NANDU KRISHNA C and my age is 19\n"
          ],
          "name": "stdout"
        }
      ]
    },
    {
      "cell_type": "markdown",
      "metadata": {
        "id": "WhhiOhLLngqL",
        "colab_type": "text"
      },
      "source": [
        "Question8"
      ]
    },
    {
      "cell_type": "code",
      "metadata": {
        "id": "bxgbgBtqnkks",
        "colab_type": "code",
        "colab": {
          "base_uri": "https://localhost:8080/",
          "height": 51
        },
        "outputId": "ba6e51e2-4661-4540-f097-1ed23f736d1f"
      },
      "source": [
        "a= float(input(\"Enter a number: \")) \n",
        "a=a+1\n",
        "print(a)"
      ],
      "execution_count": 9,
      "outputs": [
        {
          "output_type": "stream",
          "text": [
            "Enter a number: 2020\n",
            "2021.0\n"
          ],
          "name": "stdout"
        }
      ]
    },
    {
      "cell_type": "markdown",
      "metadata": {
        "id": "Vr7jqq31n5QO",
        "colab_type": "text"
      },
      "source": [
        "Question9"
      ]
    },
    {
      "cell_type": "code",
      "metadata": {
        "id": "LQ2RGS6Qn8oJ",
        "colab_type": "code",
        "colab": {
          "base_uri": "https://localhost:8080/",
          "height": 51
        },
        "outputId": "69ece738-d022-4b3b-baa8-322ea8fe0daa"
      },
      "source": [
        "Name = input(\"Enter your first name: \") \n",
        "print(Name)"
      ],
      "execution_count": 12,
      "outputs": [
        {
          "output_type": "stream",
          "text": [
            "Enter your first name: Nandu\n",
            "Nandu\n"
          ],
          "name": "stdout"
        }
      ]
    }
  ]
}